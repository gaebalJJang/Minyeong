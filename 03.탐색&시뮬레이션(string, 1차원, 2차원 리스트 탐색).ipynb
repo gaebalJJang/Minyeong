{
 "cells": [
  {
   "cell_type": "markdown",
   "metadata": {},
   "source": [
    "## 1. 회문 문자열 검사(대소문자 구별X)"
   ]
  },
  {
   "cell_type": "code",
   "execution_count": 7,
   "metadata": {},
   "outputs": [
    {
     "name": "stdout",
     "output_type": "stream",
     "text": [
      "영어 문자열 입력: aveEva\n",
      "True\n"
     ]
    }
   ],
   "source": [
    "a = input(\"영어 문자열 입력: \")\n",
    "a = a.upper()\n",
    "\n",
    "size = len(a)\n",
    "for i in range(size//2):\n",
    "    if a[i] != a[-1-i]:\n",
    "        print('False')\n",
    "        break\n",
    "else:\n",
    "    print('True')\n",
    "    \n",
    "# if a == a[::-1]:    문자열 a reverse\n",
    "#     print(True)\n",
    "# else:\n",
    "#     print(False)"
   ]
  },
  {
   "cell_type": "markdown",
   "metadata": {},
   "source": [
    "## 2. 문자열에서 숫자만 추출(앞의 0은 무시), 약수의 개수"
   ]
  },
  {
   "cell_type": "code",
   "execution_count": 8,
   "metadata": {},
   "outputs": [
    {
     "name": "stdout",
     "output_type": "stream",
     "text": [
      "숫자가 들어간 문자열 입력: alkj02dkc035ejf97\n",
      "203597\n",
      "4\n"
     ]
    }
   ],
   "source": [
    "a = input(\"숫자가 들어간 문자열 입력: \")\n",
    "\n",
    "res = 0\n",
    "for x in a:\n",
    "    if x.isdecimal():\n",
    "        res = res*10 + int(x)\n",
    "print(res)\n",
    "\n",
    "count = 0\n",
    "for i in range(1,res+1):\n",
    "    if res%i == 0:\n",
    "        count += 1\n",
    "print(count)"
   ]
  },
  {
   "cell_type": "markdown",
   "metadata": {},
   "source": [
    "## 3. 카드 역배치"
   ]
  },
  {
   "cell_type": "code",
   "execution_count": 9,
   "metadata": {},
   "outputs": [
    {
     "name": "stdout",
     "output_type": "stream",
     "text": [
      "구간 입력(0~20): 2 9\n",
      "[0, 1, 9, 8, 7, 6, 5, 4, 3, 2, 10, 11, 12, 13, 14, 15, 16, 17, 18, 19, 20]\n"
     ]
    }
   ],
   "source": [
    "n, m = map(int, input(\"구간 입력(0~20): \").split())\n",
    "a = list(range(0,21))\n",
    "\n",
    "for i in range((m-n+1)//2):\n",
    "    a[n+i], a[m-i] = a[m-i], a[n+i]\n",
    "\n",
    "print(a)"
   ]
  },
  {
   "cell_type": "markdown",
   "metadata": {},
   "source": [
    "## 4. 정렬된 리스트 합치기(포인터 사용)\n",
    "sort()를 쓰면 nlog(n) / 안쓰면 n"
   ]
  },
  {
   "cell_type": "code",
   "execution_count": 10,
   "metadata": {},
   "outputs": [
    {
     "name": "stdout",
     "output_type": "stream",
     "text": [
      "[1, 2, 3, 3, 5, 6, 7, 9]\n"
     ]
    }
   ],
   "source": [
    "a = [1,3,5]\n",
    "b = [2,3,6,7,9]\n",
    "p1 = p2 = 0\n",
    "sum = []\n",
    "\n",
    "while p1<len(a) and p2<len(b):\n",
    "    if a[p1]<b[p2]:\n",
    "        sum.append(a[p1])\n",
    "        p1 += 1\n",
    "    else:\n",
    "        sum.append(b[p2])\n",
    "        p2 += 1\n",
    "\n",
    "if p1<len(a):\n",
    "    sum = sum+a[p1:]\n",
    "if p2<len(b):\n",
    "    sum = sum+b[p2:]\n",
    "    \n",
    "print(sum)"
   ]
  },
  {
   "cell_type": "markdown",
   "metadata": {},
   "source": [
    "## 5. 수열의 연속적 부분 합이 N이 되는 경우의 수(왼쪽포인터, 오른쪽포인터 사용)"
   ]
  },
  {
   "cell_type": "code",
   "execution_count": 11,
   "metadata": {},
   "outputs": [
    {
     "name": "stdout",
     "output_type": "stream",
     "text": [
      "부분 합 N: 3\n",
      "5\n"
     ]
    }
   ],
   "source": [
    "n = int(input(\"부분 합 N: \"))\n",
    "a = [1,2,1,3,1,1,1,2]\n",
    "lt, rt = 0, 1\n",
    "\n",
    "count = 0\n",
    "total = a[0]\n",
    "\n",
    "while True:\n",
    "    if total < n:\n",
    "        if rt < len(a):\n",
    "            total += a[rt]\n",
    "            rt+=1\n",
    "        else:\n",
    "            break\n",
    "    elif total == n:\n",
    "        count+=1\n",
    "        total -= a[lt]\n",
    "        lt+=1\n",
    "    else:\n",
    "        total -= a[lt]\n",
    "        lt+=1\n",
    "\n",
    "print(count)"
   ]
  },
  {
   "cell_type": "markdown",
   "metadata": {},
   "source": [
    "## 6. 격자판 최대합"
   ]
  },
  {
   "cell_type": "code",
   "execution_count": 16,
   "metadata": {},
   "outputs": [
    {
     "name": "stdout",
     "output_type": "stream",
     "text": [
      "격자판 크기 N: 5\n",
      "10 13 10 12 15\n",
      "12 39 30 23 11\n",
      "11 25 50 53 15\n",
      "19 27 29 37 27\n",
      "19 13 30 13 19\n",
      "155\n"
     ]
    }
   ],
   "source": [
    "n = int(input(\"격자판 크기 N: \"))\n",
    "a=[]\n",
    "for i in range(n):\n",
    "    b = list(map(int, input().split()))\n",
    "    a.append(b)\n",
    "    \n",
    "# a = [list(map(input().split())) for _ in range(n)]\n",
    "    \n",
    "max = 0\n",
    "diagonalL, diagonalR = 0, 0\n",
    "    \n",
    "for i in range(n):\n",
    "    row = col = 0\n",
    "    for j in range(n):\n",
    "        row+=a[i][j]\n",
    "        col+=a[j][i]     \n",
    "    if row > max:\n",
    "        max=row\n",
    "    if col > max:\n",
    "        max=col\n",
    "        \n",
    "    diagonalL+=a[i][i]\n",
    "    diagonalR+=a[i][n-1-i]\n",
    "\n",
    "if diagonalL > max:\n",
    "    max=diagonalL\n",
    "if diagonalR > max:\n",
    "    max=diagonalR\n",
    "    \n",
    "print(max)"
   ]
  },
  {
   "cell_type": "markdown",
   "metadata": {},
   "source": [
    "## 7. 사과나무(다이아몬드) 총 합"
   ]
  },
  {
   "cell_type": "code",
   "execution_count": 6,
   "metadata": {
    "scrolled": true
   },
   "outputs": [
    {
     "name": "stdout",
     "output_type": "stream",
     "text": [
      "홀수 N: 5\n",
      "10 13 10 12 15\n",
      "12 39 30 23 11\n",
      "11 25 50 53 15\n",
      "19 27 29 37 27\n",
      "19 13 30 13 19\n",
      "379\n"
     ]
    }
   ],
   "source": [
    "n = int(input(\"홀수 N: \"))\n",
    "a=[]\n",
    "for i in range(n):\n",
    "    b = list(map(int, input().split()))\n",
    "    a.append(b)\n",
    "\n",
    "m = n//2\n",
    "sum = 0\n",
    "\n",
    "for i in range(m+1):\n",
    "    if i==m:\n",
    "        for j in range(n):\n",
    "            sum+=a[i][j]\n",
    "    else:\n",
    "        for j in range(m-i,m+i+1):\n",
    "            sum+=a[i][j]\n",
    "            sum+=a[n-1-i][j]\n",
    "            \n",
    "print(sum)\n",
    "\n",
    "# # 격자판 전체로 for문하는 방법\n",
    "# s=e=n//2\n",
    "# for i in range(n):\n",
    "#     for j in range(s,e+1):\n",
    "#         sum+=a[i][j]\n",
    "#     if i<n//2:\n",
    "#         s-=1\n",
    "#         e+=1\n",
    "#     else:\n",
    "#         s+=1\n",
    "#         e-=1"
   ]
  },
  {
   "cell_type": "markdown",
   "metadata": {},
   "source": [
    "## 8. 곶감(모래시계)_미완성"
   ]
  },
  {
   "cell_type": "code",
   "execution_count": null,
   "metadata": {},
   "outputs": [],
   "source": [
    "# i번째 행 n번 회전\n",
    "if t==0: # 왼쪽으로 \n",
    "    for _ in range(n):\n",
    "        a[i-1].append(a[i-1].pop(0))\n",
    "else:  # 오른쪽으로\n",
    "    for _ in range(n):\n",
    "        a[i-1].insert(0,a[i-1].pop())"
   ]
  },
  {
   "cell_type": "markdown",
   "metadata": {},
   "source": [
    "## 9. 봉우리의 개수"
   ]
  },
  {
   "cell_type": "code",
   "execution_count": 63,
   "metadata": {
    "scrolled": true
   },
   "outputs": [
    {
     "name": "stdout",
     "output_type": "stream",
     "text": [
      "10\n"
     ]
    }
   ],
   "source": [
    "n=5\n",
    "a=[[5,3,7,2,3],\n",
    "   [3,7,1,6,1],\n",
    "   [7,2,5,3,4],\n",
    "   [4,3,6,4,1],\n",
    "   [8,7,3,5,2]]\n",
    "# n=7\n",
    "# a=[[27 ,33, 80 ,73 ,19, 23 ,15], \n",
    "# [48, 84, 61 ,3 ,36 ,9 ,62 ],\n",
    "# [87, 57, 3 ,14, 69 ,17, 22 ],\n",
    "# [17, 57, 86 ,21, 85, 51, 82 ],\n",
    "# [7 ,94, 66, 21, 19 ,41 ,82 ],\n",
    "# [27, 5 ,59, 28 ,26, 77, 64 ],\n",
    "# [5 ,46, 4,63 ,76 ,99 ,8 ]]\n",
    "\n",
    "count=0\n",
    "\n",
    "b = [[True for j in range(n)] for i in range(n)]\n",
    "\n",
    "for i in range(n):\n",
    "    for j in range(n-1):\n",
    "        # row 확인\n",
    "        if a[i][j] > a[i][j+1]:\n",
    "            b[i][j+1]=False\n",
    "        elif a[i][j] == a[i][j+1]:\n",
    "            b[i][j+1]=b[i][j]=False\n",
    "        else:\n",
    "            b[i][j]=False\n",
    "                \n",
    "        #column 확인\n",
    "        if a[j+1][i] > a[j][i]:\n",
    "            b[j][i]=False\n",
    "        elif a[j+1][i] == a[j][i]:\n",
    "            b[j][i]=b[j+1][i]=False\n",
    "        else:\n",
    "            b[j+1][i]=False\n",
    "\n",
    "for x in b:\n",
    "    for y in x:\n",
    "        if y==True:\n",
    "            count+=1\n",
    "        \n",
    "print(count)"
   ]
  },
  {
   "cell_type": "markdown",
   "metadata": {},
   "source": [
    "다른방법"
   ]
  },
  {
   "cell_type": "code",
   "execution_count": null,
   "metadata": {},
   "outputs": [],
   "source": [
    "import sys\n",
    "sys.stdin=open(input.txt, 'r')\n",
    "n=int(input())\n",
    "a=[list(map(int,input().split())) for _ in range(n)]\n",
    "\n",
    "# 가장자리에 0 추가\n",
    "a.insert(0, [0]*n)\n",
    "a.append([0]*n)\n",
    "for x in a:\n",
    "    x.insert(0,0)\n",
    "    x.append(0)\n",
    "\n",
    "# 동서남북\n",
    "dx=[-1,0,1,0]\n",
    "dy=[0,1,0,-1]\n",
    "count=0\n",
    "\n",
    "for i in range(1, n+1):\n",
    "    for j in range(1, n+1):\n",
    "        if all(a[i][j]>a[i+dx[k]][j+dy[k]] for k in range(4)):\n",
    "            count+=1\n",
    "print(count)"
   ]
  },
  {
   "cell_type": "markdown",
   "metadata": {},
   "source": [
    "## 10. 스도쿠"
   ]
  },
  {
   "cell_type": "code",
   "execution_count": 47,
   "metadata": {
    "scrolled": true
   },
   "outputs": [
    {
     "name": "stdout",
     "output_type": "stream",
     "text": [
      "NO\n"
     ]
    }
   ],
   "source": [
    "n=9\n",
    "a = [[1, 2, 3, 4, 5, 6, 7, 8, 9],\n",
    "     [2, 1, 4, 3, 6, 5, 8, 9, 7],\n",
    "     [3, 4, 1, 2, 7, 8, 9, 5, 6],\n",
    "     [4, 3, 2, 1, 8, 9, 6, 7, 5],\n",
    "     [5, 6, 7, 8, 9, 1, 2, 3, 4],\n",
    "     [6, 5, 8, 9, 1, 7, 3, 4, 2],\n",
    "     [7, 8, 9, 5, 2, 3, 4, 6, 1],\n",
    "     [8, 9, 6, 7, 4, 2, 5, 1, 3],\n",
    "     [9, 7, 5, 6, 3, 4, 1, 2, 8]]\n",
    "\n",
    "for i, row in enumerate(a):\n",
    "    col=[]\n",
    "    if i%3==0:\n",
    "        box1, box2, box3 = [], [], []\n",
    "    box1.append(row[0]),box1.append(row[1]),box1.append(row[2])\n",
    "    box2.append(row[3]),box2.append(row[4]),box2.append(row[5])\n",
    "    box3.append(row[6]),box3.append(row[7]),box3.append(row[8])\n",
    "    for j in range(n):\n",
    "        col.append(a[j][i])\n",
    "    if len(set(row))!=n or len(set(col))!=n:\n",
    "        print(\"NO\")\n",
    "        break\n",
    "    if (i+1)%3==0:\n",
    "        if len(set(box1))!=n or len(set(box2))!=n or len(set(box3))!=n:\n",
    "            print(\"NO\")\n",
    "            break\n",
    "    \n",
    "else:\n",
    "    print(\"YES\")\n",
    "        \n",
    "               "
   ]
  },
  {
   "cell_type": "markdown",
   "metadata": {},
   "source": [
    "다른 방법: 리스트를 만들어서 행당 인덱스 숫자가 있으면 1체크"
   ]
  },
  {
   "cell_type": "code",
   "execution_count": 54,
   "metadata": {},
   "outputs": [
    {
     "name": "stdout",
     "output_type": "stream",
     "text": [
      "NO\n"
     ]
    }
   ],
   "source": [
    "a = [[1, 2, 3, 4, 5, 6, 7, 8, 9],\n",
    "     [2, 1, 4, 3, 6, 5, 8, 9, 7],\n",
    "     [3, 4, 1, 2, 7, 8, 9, 5, 6],\n",
    "     [4, 3, 2, 1, 8, 9, 6, 7, 5],\n",
    "     [5, 6, 7, 8, 9, 1, 2, 3, 4],\n",
    "     [6, 5, 8, 9, 1, 7, 3, 4, 2],\n",
    "     [7, 8, 9, 5, 2, 3, 4, 6, 1],\n",
    "     [8, 9, 6, 7, 4, 2, 5, 1, 3],\n",
    "     [9, 7, 5, 6, 3, 4, 1, 2, 8]]\n",
    "\n",
    "def check(a):\n",
    "    for i in range(9):\n",
    "        ch1=ch2=[0]*10\n",
    "        for j in range(9):\n",
    "            ch1[a[i][j]]=1\n",
    "            ch2[a[j][i]]=1\n",
    "        if sum(ch1)!=9 or sum(ch1)!=9:\n",
    "            return False\n",
    "    for i in range(3):\n",
    "        for j in range(3):\n",
    "            ch3=[0]*10\n",
    "            for k in range(3):\n",
    "                for s in range(3):\n",
    "                    ch3[a[i*3+k][j*3+s]]=1\n",
    "            if sum(ch3)!=9:\n",
    "                return False\n",
    "    return True\n",
    "\n",
    "if check(a):\n",
    "    print(\"YES\")\n",
    "else:\n",
    "    print(\"NO\")"
   ]
  },
  {
   "cell_type": "markdown",
   "metadata": {},
   "source": [
    "## 11. 격자판 5자리 회문수"
   ]
  },
  {
   "cell_type": "code",
   "execution_count": 48,
   "metadata": {},
   "outputs": [
    {
     "name": "stdout",
     "output_type": "stream",
     "text": [
      "3\n"
     ]
    }
   ],
   "source": [
    "n = 7\n",
    "a = [[2,4,1,5,3,2,6],\n",
    "     [3,5,1,8,7,1,7],\n",
    "     [8,3,2,7,1,3,8],\n",
    "     [6,1,2,3,2,1,1],\n",
    "     [1,3,1,3,5,3,2],\n",
    "     [1,1,2,5,6,5,2],\n",
    "     [1,2,2,2,2,1,5]]\n",
    "\n",
    "count = 0\n",
    "\n",
    "for i in range(n):\n",
    "    for start in range(3):\n",
    "        pl, pr = start, start+4\n",
    "        # row회문 검사\n",
    "        for _ in range(5//2):\n",
    "            if a[i][pl]!=a[i][pr]:\n",
    "                break\n",
    "            pl+=1\n",
    "            pr-=1\n",
    "        else:\n",
    "            count+=1\n",
    "        # column회문 검사\n",
    "        pl, pr = start, start+4\n",
    "        for _ in range(5//2):\n",
    "            if a[pl][i]!=a[pr][i]:\n",
    "                break\n",
    "            pl+=1\n",
    "            pr-=1\n",
    "        else:\n",
    "            count+=1\n",
    "            \n",
    "print(count)\n",
    "\n",
    "# # 다른방법\n",
    "# for i in range(3):\n",
    "#     for j in range(n):\n",
    "#         tmp=a[j][i:i+5]\n",
    "#         if tmp==tmp[::-1]:\n",
    "#             count+=1\n",
    "#         for k in range(2):\n",
    "#             if a[i+k][j]!=a[i+5-k-1][j]:\n",
    "#                 break\n",
    "#         else:\n",
    "#             count+=1"
   ]
  }
 ],
 "metadata": {
  "kernelspec": {
   "display_name": "Python 3",
   "language": "python",
   "name": "python3"
  },
  "language_info": {
   "codemirror_mode": {
    "name": "ipython",
    "version": 3
   },
   "file_extension": ".py",
   "mimetype": "text/x-python",
   "name": "python",
   "nbconvert_exporter": "python",
   "pygments_lexer": "ipython3",
   "version": "3.8.5"
  }
 },
 "nbformat": 4,
 "nbformat_minor": 4
}
