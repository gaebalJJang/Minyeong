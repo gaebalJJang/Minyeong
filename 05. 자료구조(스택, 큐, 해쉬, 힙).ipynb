{
 "cells": [
  {
   "cell_type": "markdown",
   "id": "ecd54798",
   "metadata": {},
   "source": [
    "### 1. 가장 큰 수"
   ]
  },
  {
   "cell_type": "code",
   "execution_count": 20,
   "id": "1961d78e",
   "metadata": {},
   "outputs": [
    {
     "name": "stdout",
     "output_type": "stream",
     "text": [
      "숫자, 제거할 개수(m): 5276823 3\n",
      "7823\n"
     ]
    }
   ],
   "source": [
    "num, m = map(int, input(\"숫자, 제거할 개수(m): \").split())\n",
    "\n",
    "num_list = [int(a) for a in str(num)]\n",
    "max_num = max(num_list)\n",
    "max_idx = num_list.index(max_num)\n",
    "\n",
    "if m == max_idx:\n",
    "    num_list = num_list[m:]\n",
    "    \n",
    "elif m < max_idx:\n",
    "    for _ in range(m):\n",
    "        num_list.remove(min(num_list[:max_idx]))\n",
    "        max_idx-=1\n",
    "else:\n",
    "    num_list = num_list[max_idx:]\n",
    "    for _ in range(m-max_idx):\n",
    "        num_list.remove(min(num_list))\n",
    "\n",
    "result = \"\"\n",
    "for x in num_list:\n",
    "    result+=str(x)\n",
    "print(int(result))"
   ]
  },
  {
   "cell_type": "markdown",
   "id": "1c4c729d",
   "metadata": {},
   "source": [
    "### 2.  쇠막대기"
   ]
  },
  {
   "cell_type": "code",
   "execution_count": null,
   "id": "6e149cf5",
   "metadata": {},
   "outputs": [],
   "source": []
  },
  {
   "cell_type": "markdown",
   "id": "7a276982",
   "metadata": {},
   "source": [
    "### 3. 후위표기식 만들기"
   ]
  },
  {
   "cell_type": "code",
   "execution_count": 1,
   "id": "544cee69",
   "metadata": {
    "scrolled": true
   },
   "outputs": [
    {
     "ename": "IndentationError",
     "evalue": "expected an indented block (<ipython-input-1-dd7c5dfae4ec>, line 9)",
     "output_type": "error",
     "traceback": [
      "\u001b[1;36m  File \u001b[1;32m\"<ipython-input-1-dd7c5dfae4ec>\"\u001b[1;36m, line \u001b[1;32m9\u001b[0m\n\u001b[1;33m    for i in range(len(a)):\u001b[0m\n\u001b[1;37m                           ^\u001b[0m\n\u001b[1;31mIndentationError\u001b[0m\u001b[1;31m:\u001b[0m expected an indented block\n"
     ]
    }
   ],
   "source": [
    "a = list(input(\"중위표기식: \"))\n",
    "result = []\n",
    "stack = []\n",
    "\n",
    "for i in range(len(a)):\n",
    "    if a[i].isdigit() == True:\n",
    "        result.append(a[i])\n",
    "    else:\n",
    "        if a[i] == \"(\":\n",
    "            \n",
    "        elif a[i] == \")\":\n",
    "            \n",
    "        elif a[i] == \"+\" or a[i] == \"-\":\n",
    "            stack.appned()\n",
    "        elif a[i] == \"*\" or a[i] == \"/\":\n",
    "            \n",
    "            \n",
    "    \n",
    "    \n",
    "\n",
    "3+\n",
    "35+\n",
    "35*+\n",
    "352*+\n",
    "352*/+\n",
    "3527*/+\n",
    "3527-*/+\n",
    "35272-*/+"
   ]
  },
  {
   "cell_type": "markdown",
   "id": "e45737ce",
   "metadata": {},
   "source": [
    "### 4. 후위식 연산"
   ]
  },
  {
   "cell_type": "code",
   "execution_count": 6,
   "id": "3467a39f",
   "metadata": {
    "scrolled": true
   },
   "outputs": [
    {
     "name": "stdout",
     "output_type": "stream",
     "text": [
      "후위연산식: 58+65*+32+-73*-5-323*++53+2+52*-+3+\n",
      "24\n"
     ]
    }
   ],
   "source": [
    "operator = input(\"후위연산식: \")\n",
    "num = []\n",
    "\n",
    "for i in range(len(operator)):\n",
    "    if operator[i].isdigit() == True:\n",
    "        num.append(int(operator[i]))\n",
    "    elif operator[i] == '+':\n",
    "        b = num.pop()\n",
    "        a = num.pop()\n",
    "        num.append(a+b)\n",
    "    elif operator[i] == '-':\n",
    "        b = num.pop()\n",
    "        a = num.pop()\n",
    "        num.append(a-b)\n",
    "    elif operator[i] == '/':\n",
    "        b = num.pop()\n",
    "        a = num.pop()\n",
    "        num.append(a/b)\n",
    "    elif operator[i] == '*':\n",
    "        b = num.pop()\n",
    "        a = num.pop()\n",
    "        num.append(a*b)\n",
    "        \n",
    "print(num[0])"
   ]
  },
  {
   "cell_type": "markdown",
   "id": "1f08bf1b",
   "metadata": {},
   "source": [
    "### 5. 공주 구하기 (Queue)"
   ]
  },
  {
   "cell_type": "code",
   "execution_count": 12,
   "id": "a92d5a61",
   "metadata": {},
   "outputs": [
    {
     "name": "stdout",
     "output_type": "stream",
     "text": [
      "왕자 수(n), 번호(k): 8 3\n",
      "7\n"
     ]
    }
   ],
   "source": [
    "n,k = map(int, input(\"왕자 수(n), 번호(k): \").split())\n",
    "queue = [i for i in range(1, n+1)]\n",
    "\n",
    "start_num = 1\n",
    "while True:\n",
    "    if len(queue) == 1:\n",
    "        break\n",
    "        \n",
    "    idx = queue.index(start_num)\n",
    "    idx -= len(queue)\n",
    "    start_num = queue[idx+k]\n",
    "    queue.pop(idx+k-1)\n",
    "        \n",
    "print(queue[0])"
   ]
  },
  {
   "cell_type": "markdown",
   "id": "21c4d2a6",
   "metadata": {},
   "source": [
    "### 6. 응급실"
   ]
  },
  {
   "cell_type": "code",
   "execution_count": 11,
   "id": "09cae326",
   "metadata": {},
   "outputs": [
    {
     "name": "stdout",
     "output_type": "stream",
     "text": [
      "환자 수(n), 특정 환자(m): 50 15\n",
      "위험도: 77 92 64 94 83 82 69 89 74 79 85 65 82 82 85 79 68 79 63 77 93 58 78 75 86 85 90 77 57 51 56 69 53 56 67 64 84 92 52 54 74 50 66 72 87 54 66 98 55 55 \n",
      "18\n"
     ]
    }
   ],
   "source": [
    "n,m = map(int, input(\"환자 수(n), 특정 환자(m): \").split())\n",
    "emergency = list(map(int, input(\"위험도: \").split()))\n",
    "\n",
    "count = 0\n",
    "m_em = emergency[m]\n",
    "m_idx = m\n",
    "\n",
    "while True:\n",
    "    if emergency[0] == max(emergency):\n",
    "        count+=1\n",
    "        if m_idx == 0:\n",
    "            break\n",
    "        else:\n",
    "            emergency.pop(0)\n",
    "            m_idx-=1\n",
    "            if m_idx == -1:\n",
    "                m_idx = len(emergency)-1\n",
    "    else:\n",
    "        emergency.append(emergency[0])\n",
    "        emergency.pop(0)\n",
    "        m_idx-=1\n",
    "        if m_idx == -1:\n",
    "            m_idx = len(emergency)-1\n",
    "        \n",
    "print(count)"
   ]
  },
  {
   "cell_type": "markdown",
   "id": "e11e342a",
   "metadata": {},
   "source": [
    "### 7. 교육과정 설계"
   ]
  },
  {
   "cell_type": "code",
   "execution_count": 8,
   "id": "93d95655",
   "metadata": {},
   "outputs": [
    {
     "name": "stdout",
     "output_type": "stream",
     "text": [
      "필수과목: AKDEF\n",
      "수업설계 개수(N): 5\n",
      "AYKGDHEJ\n",
      "AQKWDERTFYP\n",
      "CTFKSBDEA\n",
      "ASKGHDEF\n",
      "WOPASFKGHDEF\n",
      "NO\n",
      "YES\n",
      "NO\n",
      "YES\n",
      "NO\n"
     ]
    }
   ],
   "source": [
    "must = input(\"필수과목: \")\n",
    "n = int(input(\"수업설계 개수(N): \"))\n",
    "lectures = []\n",
    "for i in range(n):\n",
    "    lecture = input()\n",
    "    lectures.append(lecture)\n",
    "    \n",
    "stop = False\n",
    "\n",
    "result = []\n",
    "for lecture in lectures:\n",
    "    idx = []\n",
    "    for x in must:\n",
    "        if x in lecture:\n",
    "            idx.append(lecture.index(x))\n",
    "        else:\n",
    "            result.append(\"NO\")\n",
    "            stop = True\n",
    "            break\n",
    "    if stop == True:\n",
    "        stop = False\n",
    "        continue\n",
    "    if all(idx[i] < idx[i+1] for i in range(len(idx)-1)):\n",
    "        result.append(\"YES\")\n",
    "    else:\n",
    "        result.append(\"NO\")\n",
    "            \n",
    "for i in range(len(result)):\n",
    "    print(\"#\",i,\" \",result[i], sep=\"\")"
   ]
  },
  {
   "cell_type": "markdown",
   "id": "51942dff",
   "metadata": {},
   "source": [
    "### 8. 단어 찾기"
   ]
  },
  {
   "cell_type": "code",
   "execution_count": 3,
   "id": "274a24f0",
   "metadata": {
    "scrolled": true
   },
   "outputs": [
    {
     "name": "stdout",
     "output_type": "stream",
     "text": [
      "단어 개수(N): 7\n",
      "big\n",
      "good\n",
      "sky\n",
      "blue\n",
      "dkfkjgk\n",
      "mouse\n",
      "dkfjkqhgk\n",
      "dkfjkqhgk\n",
      "mouse\n",
      "dkfkjgk\n",
      "blue\n",
      "big\n",
      "sky\n",
      "good\n"
     ]
    }
   ],
   "source": [
    "n = int(input(\"단어 개수(N): \"))\n",
    "words = []\n",
    "for _ in range(n):\n",
    "    word = input()\n",
    "    words.append(word)\n",
    "\n",
    "poetrys = []\n",
    "for _ in range(n-1):\n",
    "    poetry = input()\n",
    "    poetrys.append(poetry)\n",
    "    \n",
    "for word in words:\n",
    "    if word not in poetrys:\n",
    "        not_use = word\n",
    "        break\n",
    "        \n",
    "print(not_use)"
   ]
  },
  {
   "cell_type": "markdown",
   "id": "762a9d3e",
   "metadata": {},
   "source": [
    "### 9. 아나그램"
   ]
  },
  {
   "cell_type": "code",
   "execution_count": 9,
   "id": "23dc7c7a",
   "metadata": {},
   "outputs": [
    {
     "name": "stdout",
     "output_type": "stream",
     "text": [
      "ABCDEFGHIJKLMNOPQRSTUVWXYZabcdefghijklmnoqrtuvwxyzABCDEFGHIJKLMNOPQRSTUVWXYZabcdefghijklmnoqrtuvwxyz\n",
      "ZBCcdFfgIJKLMNOPQRSTvVxyYAabDEeGHhijklmnoqrtuUwWXzZBCcdFfgIJKLMNOPQRSTvVxyYAabDEeGHhijklmnoqrtuUwWXz\n",
      "YES\n"
     ]
    }
   ],
   "source": [
    "string1 = input()\n",
    "string2 = input()\n",
    "\n",
    "if len(string1) == len(string2):\n",
    "    checked = []\n",
    "    for x in string1:\n",
    "        if x in checked:\n",
    "            continue\n",
    "        checked.append(x)\n",
    "        if string1.count(x) != string2.count(x):\n",
    "            print(\"NO\")\n",
    "            break\n",
    "    else:\n",
    "        print(\"YES\")\n",
    "                   \n",
    "else:\n",
    "    print(\"NO\")"
   ]
  },
  {
   "cell_type": "markdown",
   "id": "f9a72664",
   "metadata": {},
   "source": [
    "### 10. 최소힙"
   ]
  },
  {
   "cell_type": "code",
   "execution_count": null,
   "id": "210b7c9a",
   "metadata": {},
   "outputs": [],
   "source": []
  },
  {
   "cell_type": "markdown",
   "id": "37f9b277",
   "metadata": {},
   "source": [
    "### 11. 최대힙"
   ]
  },
  {
   "cell_type": "code",
   "execution_count": null,
   "id": "3f2c66f2",
   "metadata": {},
   "outputs": [],
   "source": []
  }
 ],
 "metadata": {
  "kernelspec": {
   "display_name": "Python 3",
   "language": "python",
   "name": "python3"
  },
  "language_info": {
   "codemirror_mode": {
    "name": "ipython",
    "version": 3
   },
   "file_extension": ".py",
   "mimetype": "text/x-python",
   "name": "python",
   "nbconvert_exporter": "python",
   "pygments_lexer": "ipython3",
   "version": "3.8.10"
  }
 },
 "nbformat": 4,
 "nbformat_minor": 5
}
