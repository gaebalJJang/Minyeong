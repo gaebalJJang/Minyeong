{
 "cells": [
  {
   "cell_type": "markdown",
   "metadata": {},
   "source": [
    "## 1. K번째 약수"
   ]
  },
  {
   "cell_type": "code",
   "execution_count": 5,
   "metadata": {},
   "outputs": [
    {
     "name": "stdout",
     "output_type": "stream",
     "text": [
      "정수N과 약수 K번째 입력(띄어쓰기): 10 3\n",
      "정수 10의 3번째 약수는: 5\n"
     ]
    }
   ],
   "source": [
    "n, k = map(int, input(\"정수N과 약수 K번째 입력(띄어쓰기): \").split())\n",
    "\n",
    "cnt = 0\n",
    "for i in range(1, n+1):\n",
    "    if n%i==0:\n",
    "        cnt+=1\n",
    "    if cnt==k:\n",
    "        print(\"정수 {}의 {}번째 약수는: {}\".format(n,k,i))\n",
    "        break\n",
    "else:\n",
    "    print(-1)"
   ]
  },
  {
   "cell_type": "markdown",
   "metadata": {},
   "source": [
    "## 2. 1~N 사이의 수 중 3개의 합을 여러번 기록하여 그 중 K번째로 큰 값 찾기"
   ]
  },
  {
   "cell_type": "code",
   "execution_count": 7,
   "metadata": {},
   "outputs": [
    {
     "name": "stdout",
     "output_type": "stream",
     "text": [
      "정수N과 K번째 입력(띄어쓰기): 100 4\n",
      "291\n"
     ]
    }
   ],
   "source": [
    "n, k = map(int, input(\"정수N과 K번째 입력(띄어쓰기): \").split())\n",
    "\n",
    "a = list(range(n))\n",
    "# 중복을 제거\n",
    "res = set()\n",
    "\n",
    "for i in range(n):\n",
    "    for j in range(i+1, n):\n",
    "        for m in range(j+1, n):\n",
    "            res.add(a[i]+a[j]+a[m])\n",
    "\n",
    "res=list(res)\n",
    "res.sort(reverse=True)\n",
    "print(res[k-1])"
   ]
  },
  {
   "cell_type": "markdown",
   "metadata": {},
   "source": [
    "## 3. 최솟값 구하기"
   ]
  },
  {
   "cell_type": "code",
   "execution_count": 8,
   "metadata": {},
   "outputs": [
    {
     "name": "stdout",
     "output_type": "stream",
     "text": [
      "2\n"
     ]
    }
   ],
   "source": [
    "arr = [5,3,7,9,5,2,6]\n",
    "\n",
    "# 가장 큰 값으로 초기화\n",
    "arrMin = float('inf')\n",
    "\n",
    "# for i in range(len(arr)):\n",
    "#     if arr[i] < arrMin:\n",
    "#         arrMin = arr[i]\n",
    "for x in arr:\n",
    "    if x < arrMin:\n",
    "        arrMin = x\n",
    "        \n",
    "print(arrMin)"
   ]
  },
  {
   "cell_type": "markdown",
   "metadata": {},
   "source": [
    "## 4. N명 학생의 수학성적과 평균 -> 평균과 가장 가까운 성적\n",
    "같은 거리일 경우 성적이 큰 학생, 앞 번호인 학생"
   ]
  },
  {
   "cell_type": "code",
   "execution_count": 14,
   "metadata": {},
   "outputs": [
    {
     "name": "stdout",
     "output_type": "stream",
     "text": [
      "74 9\n"
     ]
    }
   ],
   "source": [
    "n = 10\n",
    "a = [65,73,66,87,92,67,55,79,75,80]\n",
    "\n",
    "ave = round(sum(a)/n)\n",
    "minNum = 2147000000\n",
    "\n",
    "for i, x in enumerate(a):\n",
    "    tmp = abs(x-ave)   # 절댓값\n",
    "    if tmp < minNum:\n",
    "        minNum = tmp\n",
    "        studentNum = i+1\n",
    "        score = x\n",
    "    elif tmp == minNum:\n",
    "        if x > score:\n",
    "            score = x\n",
    "            studentNum = i+1\n",
    "\n",
    "print(ave, studentNum)"
   ]
  },
  {
   "cell_type": "markdown",
   "metadata": {},
   "source": [
    "## 5. 정N,M면체를 던져 나온 눈의 합 중 확률이 가장 높은 숫자\n",
    "N,M은 4,6,8,12,20 중 하나"
   ]
  },
  {
   "cell_type": "code",
   "execution_count": 16,
   "metadata": {},
   "outputs": [
    {
     "name": "stdout",
     "output_type": "stream",
     "text": [
      "정수N과 M입력(띄어쓰기): 4 6\n",
      "5 6 7 "
     ]
    }
   ],
   "source": [
    "n, m = map(int, input(\"정수N과 M입력(띄어쓰기): \").split())\n",
    "cnt = [0]*(n+m+1)   # 두 눈의 합의 빈도 수\n",
    "maxNum = 0\n",
    "\n",
    "for i in range(1, n+1):\n",
    "    for j in range(1, m+1):\n",
    "         cnt[i+j]+=1\n",
    "\n",
    "for i in range(n+m+1):\n",
    "    if cnt[i] > maxNum:\n",
    "        maxNum = cnt[i]\n",
    "        \n",
    "for i in range(n+m+1):\n",
    "    if cnt[i] == maxNum:\n",
    "        print(i, end=' ')"
   ]
  },
  {
   "cell_type": "markdown",
   "metadata": {},
   "source": [
    "## 6. N개의 숫자 중 각 자리수의 합이 가장 큰 숫자"
   ]
  },
  {
   "cell_type": "code",
   "execution_count": 20,
   "metadata": {},
   "outputs": [
    {
     "name": "stdout",
     "output_type": "stream",
     "text": [
      "97\n"
     ]
    }
   ],
   "source": [
    "n = 3\n",
    "a = [125, 15232, 97]\n",
    "\n",
    "def digit_sum(x):\n",
    "    sum = 0\n",
    "#     while x>0:\n",
    "#         sum += x%10\n",
    "#         x = x//10\n",
    "    for i in str(x):\n",
    "        sum+=int(i)\n",
    "    return sum\n",
    "\n",
    "maxNum = 0\n",
    "for x in a:\n",
    "    sum = digit_sum(x)\n",
    "    if sum > maxNum:\n",
    "        maxNum = sum\n",
    "        res = x\n",
    "        \n",
    "print(x)"
   ]
  },
  {
   "cell_type": "markdown",
   "metadata": {},
   "source": [
    "## 7. 자연수 2~N의 소수의 개수"
   ]
  },
  {
   "cell_type": "markdown",
   "metadata": {},
   "source": [
    "리스트를 for문으로 돌면서 0이면 소수이고, 이중 for문에서 그 자연수의 배수 모두 1로 바꿈"
   ]
  },
  {
   "cell_type": "code",
   "execution_count": 21,
   "metadata": {},
   "outputs": [
    {
     "name": "stdout",
     "output_type": "stream",
     "text": [
      "자연수 N: 20\n",
      "8\n"
     ]
    }
   ],
   "source": [
    "n = int(input(\"자연수 N: \"))\n",
    "\n",
    "arr = [0]*(n+1)\n",
    "count = 0\n",
    "\n",
    "for i in range(2, n+1):\n",
    "    if arr[i]==0:\n",
    "        count += 1\n",
    "        for j in range(i, n+1, i):\n",
    "            arr[j] = 1\n",
    "            \n",
    "print(count)"
   ]
  },
  {
   "cell_type": "markdown",
   "metadata": {},
   "source": [
    "## 8. 자연수 N을 뒤집었을 때 소수가 되는 숫자\n",
    "ex) 13 : 31"
   ]
  },
  {
   "cell_type": "code",
   "execution_count": 24,
   "metadata": {},
   "outputs": [
    {
     "name": "stdout",
     "output_type": "stream",
     "text": [
      "자연수 N: 21\n",
      "12 False\n"
     ]
    }
   ],
   "source": [
    "n = int(input(\"자연수 N: \"))\n",
    "\n",
    "def reverse(x):\n",
    "    res = 0\n",
    "    while x > 0:\n",
    "        t = x%10\n",
    "        res = res*10 + t\n",
    "        x = x//10\n",
    "    return res\n",
    "\n",
    "def isPrime(x):\n",
    "    if x <= 1:\n",
    "        return False\n",
    "    for i in range(2, x//2 + 1):\n",
    "        if x%i == 0:\n",
    "            return False\n",
    "    else:\n",
    "        return True\n",
    "\n",
    "res = reverse(n)\n",
    "print(res, isPrime(res))"
   ]
  },
  {
   "cell_type": "markdown",
   "metadata": {},
   "source": [
    "## 9. 주사위 3개를 던져서 N명 중 가장 많은 상금을 받은 사람"
   ]
  },
  {
   "cell_type": "markdown",
   "metadata": {},
   "source": [
    "###### 같은 눈 3개 : 10,000원 + (같은 눈)x1,000원\n",
    "###### 같은 눈 2개 : 1,000원 + (같은 눈)x100원\n",
    "###### 모두 다른 눈 : (가장 큰 눈)x100원"
   ]
  },
  {
   "cell_type": "code",
   "execution_count": 26,
   "metadata": {},
   "outputs": [
    {
     "name": "stdout",
     "output_type": "stream",
     "text": [
      "1600\n"
     ]
    }
   ],
   "source": [
    "import random\n",
    "\n",
    "maxNum = 0\n",
    "\n",
    "for i in range(n):\n",
    "    dice = []\n",
    "    for j in range(3):\n",
    "        dice.append(random.randint(1,6))\n",
    "    dice.sort()\n",
    "    a, b, c = dice[0], dice[1], dice[2]\n",
    "\n",
    "    if a==b and b==c:\n",
    "        money = 10000 + a*1000\n",
    "    elif a==b or a==c:\n",
    "        money = 1000 + a*100\n",
    "    elif b==c:\n",
    "        money = 1000 + b*100\n",
    "    else:\n",
    "        money = c*100\n",
    "    if money > maxNum:\n",
    "        maxNum = money\n",
    "    \n",
    "print(maxNum)"
   ]
  }
 ],
 "metadata": {
  "kernelspec": {
   "display_name": "Python 3",
   "language": "python",
   "name": "python3"
  },
  "language_info": {
   "codemirror_mode": {
    "name": "ipython",
    "version": 3
   },
   "file_extension": ".py",
   "mimetype": "text/x-python",
   "name": "python",
   "nbconvert_exporter": "python",
   "pygments_lexer": "ipython3",
   "version": "3.8.5"
  }
 },
 "nbformat": 4,
 "nbformat_minor": 4
}
