{
 "cells": [
  {
   "cell_type": "markdown",
   "metadata": {},
   "source": [
    "## 이분검색"
   ]
  },
  {
   "cell_type": "code",
   "execution_count": 13,
   "metadata": {
    "scrolled": true
   },
   "outputs": [
    {
     "name": "stdout",
     "output_type": "stream",
     "text": [
      "8 32\n",
      "23 87 65 12 57 32 99 81\n",
      "3\n"
     ]
    }
   ],
   "source": [
    "n, m = map(int, input().split())\n",
    "a = list(map(int,(input().split())))\n",
    "\n",
    "a.sort()\n",
    "idx=n\n",
    "\n",
    "while True:\n",
    "    if a[n//2]==m:\n",
    "        idx=n//2\n",
    "        break\n",
    "    elif a[n//2]<m:\n",
    "        a=a[n//2+1:n+1]\n",
    "    else:\n",
    "        a=a[:n//2]\n",
    "    n=n//2\n",
    "\n",
    "print(idx+1)"
   ]
  },
  {
   "cell_type": "markdown",
   "metadata": {},
   "source": [
    "### 정답(포인터 사용)"
   ]
  },
  {
   "cell_type": "code",
   "execution_count": 2,
   "metadata": {},
   "outputs": [
    {
     "name": "stdout",
     "output_type": "stream",
     "text": [
      "8 32\n",
      "23 87 65 12 57 32 99 81\n",
      "3\n"
     ]
    }
   ],
   "source": [
    "n, m = map(int, input().split())\n",
    "a = list(map(int,(input().split())))\n",
    "a.sort()\n",
    "\n",
    "lt, rt = 0, n-1\n",
    "\n",
    "while lt <= rt:\n",
    "    mid=(lt+rt)//2\n",
    "    if a[mid]==m:\n",
    "        print(mid+1)\n",
    "        break\n",
    "    elif a[mid]>m:\n",
    "        rt=mid-1\n",
    "    else:\n",
    "        lt=mid+1"
   ]
  },
  {
   "cell_type": "markdown",
   "metadata": {},
   "source": [
    "## 랜선자르기(결정알고리즘)"
   ]
  },
  {
   "cell_type": "code",
   "execution_count": 4,
   "metadata": {
    "scrolled": true
   },
   "outputs": [
    {
     "name": "stdout",
     "output_type": "stream",
     "text": [
      "5 10\n",
      "273\n",
      "401\n",
      "753\n",
      "345\n",
      "105\n",
      "최대 랜선의 길이:  150\n"
     ]
    }
   ],
   "source": [
    "k, n = map(int, input().split())\n",
    "a = []\n",
    "\n",
    "for i in range(k):\n",
    "    b = input()\n",
    "    a.append(int(b))\n",
    "    \n",
    "maxnum = max(a)\n",
    "\n",
    "for res in range(maxnum,0,-1):\n",
    "    sum = 0\n",
    "    for x in a:\n",
    "        sum+=x//res\n",
    "    if sum==n:\n",
    "        break\n",
    "        \n",
    "print(\"최대 랜선의 길이: \",res)"
   ]
  },
  {
   "cell_type": "markdown",
   "metadata": {},
   "source": [
    "### 정답(이분검색 활용)"
   ]
  },
  {
   "cell_type": "code",
   "execution_count": 5,
   "metadata": {},
   "outputs": [
    {
     "name": "stdout",
     "output_type": "stream",
     "text": [
      "5 10\n",
      "273\n",
      "401\n",
      "753\n",
      "345\n",
      "105\n",
      "150\n"
     ]
    }
   ],
   "source": [
    "k, n = map(int, input().split())\n",
    "a = []\n",
    "\n",
    "for i in range(k):\n",
    "    b = input()\n",
    "    a.append(int(b))\n",
    "\n",
    "def Count(mid):\n",
    "    sum = 0\n",
    "    for x in a:\n",
    "        sum+=x//mid\n",
    "    return sum\n",
    "\n",
    "lt = 1\n",
    "rt = max(a)\n",
    "\n",
    "while lt <= rt:\n",
    "    mid=(lt+rt)//2\n",
    "    if Count(mid)>=n:\n",
    "        result=mid\n",
    "        lt=mid+1\n",
    "    else:\n",
    "        rt=mid-1\n",
    "        \n",
    "print(\"최대 랜선의 길이: \",result)"
   ]
  },
  {
   "cell_type": "markdown",
   "metadata": {},
   "source": [
    "## 뮤직비디오(결정알고리즘)"
   ]
  },
  {
   "cell_type": "markdown",
   "metadata": {},
   "source": [
    "### 정답 "
   ]
  },
  {
   "cell_type": "code",
   "execution_count": null,
   "metadata": {},
   "outputs": [],
   "source": [
    "n, m = map(int, input().split())\n",
    "a = []\n",
    "\n",
    "def Count(mid):\n",
    "    count = 1\n",
    "    sum = 0\n",
    "    for x in a:\n",
    "        if sum+x > mid:\n",
    "            count+=1\n",
    "            sum=x\n",
    "        else:\n",
    "            sum+=x\n",
    "    return count\n",
    "    \n",
    "lt= 1\n",
    "rt=sum(a)\n",
    "maxnum=max(a)\n",
    "\n",
    "while lt <= rt:\n",
    "    mid=(lt+rt)//2\n",
    "    if mid >= maxnum and Count(mid) <= m:\n",
    "        result=mid\n",
    "        rt=mid-1\n",
    "    else:\n",
    "        lt=mid+1\n",
    "\n",
    "print(result)"
   ]
  },
  {
   "cell_type": "markdown",
   "metadata": {},
   "source": [
    "## 마구간 정하기(결정알고리즘)"
   ]
  },
  {
   "cell_type": "code",
   "execution_count": null,
   "metadata": {},
   "outputs": [],
   "source": []
  },
  {
   "cell_type": "markdown",
   "metadata": {},
   "source": [
    "## 회의실 배정(그리디) xxx"
   ]
  },
  {
   "cell_type": "code",
   "execution_count": 25,
   "metadata": {},
   "outputs": [
    {
     "name": "stdout",
     "output_type": "stream",
     "text": [
      "5\n",
      "1 4\n",
      "2 3\n",
      "3 5\n",
      "4 6\n",
      "5 7\n",
      "2\n"
     ]
    }
   ],
   "source": [
    "n = int(input())\n",
    "a = []\n",
    "\n",
    "for i in range(n):\n",
    "    x, y = map(int, input().split())\n",
    "    a.append([x,y])\n",
    "    \n",
    "a.sort(key = lambda x:(x[0], x[1]))\n",
    "    \n",
    "max_count = 0\n",
    "for i in range(n):\n",
    "    count=1\n",
    "    end=a[i][1]\n",
    "    for j in range(i+1,n):\n",
    "        if a[j][0] >= end:\n",
    "            count+=1\n",
    "            end=a[j][1]\n",
    "    if count > max_count:\n",
    "        max_count=count\n",
    "    c.append(count)\n",
    "        \n",
    "print(max_count)"
   ]
  },
  {
   "cell_type": "markdown",
   "metadata": {},
   "source": [
    "## 씨름선수(그리디)"
   ]
  },
  {
   "cell_type": "code",
   "execution_count": null,
   "metadata": {},
   "outputs": [],
   "source": []
  },
  {
   "cell_type": "markdown",
   "metadata": {},
   "source": [
    "## 창고정리"
   ]
  },
  {
   "cell_type": "code",
   "execution_count": 34,
   "metadata": {
    "scrolled": false
   },
   "outputs": [
    {
     "name": "stdout",
     "output_type": "stream",
     "text": [
      "10\n",
      "69 42 68 76 40 87 14 65 76 81\n",
      "50\n",
      "20\n"
     ]
    }
   ],
   "source": [
    "n = int(input())\n",
    "a = list(map(int,(input().split())))\n",
    "m = int(input())\n",
    "\n",
    "for _ in range(m):\n",
    "    max_idx = a.index(max(a))\n",
    "    min_idx = a.index(min(a))\n",
    "    a[max_idx]-=1\n",
    "    a[min_idx]+=1\n",
    "    \n",
    "print(max(a)-min(a))"
   ]
  },
  {
   "cell_type": "markdown",
   "metadata": {},
   "source": [
    "### 정답(sort()사용)"
   ]
  },
  {
   "cell_type": "code",
   "execution_count": 6,
   "metadata": {},
   "outputs": [
    {
     "name": "stdout",
     "output_type": "stream",
     "text": [
      "10\n",
      "69 42 68 76 40 87 14 65 76 81\n",
      "50\n",
      "20\n"
     ]
    }
   ],
   "source": [
    "n = int(input())\n",
    "a = list(map(int,(input().split())))\n",
    "m = int(input())\n",
    "\n",
    "a.sort()\n",
    "\n",
    "for _ in range(m):\n",
    "    a[0]+=1\n",
    "    a[n-1]-=1\n",
    "    a.sort()\n",
    "    \n",
    "print(a[n-1]-a[0])"
   ]
  },
  {
   "cell_type": "markdown",
   "metadata": {},
   "source": [
    "## 침몰하는 타이타닉(그리디)"
   ]
  },
  {
   "cell_type": "code",
   "execution_count": 48,
   "metadata": {},
   "outputs": [
    {
     "name": "stdout",
     "output_type": "stream",
     "text": [
      "500 150\n",
      "56 115 90 54 85 23 59 39 35 78 63 74 100 114 87 75 119 86 27 39 113 55 31 36 73 75 52 108 29 20 57 75 30 89 42 47 100 48 36 52 86 36 115 75 26 27 56 27 32 62 52 51 27 40 45 79 85 109 33 53 48 40 84 105 77 71 89 28 44 56 25 78 32 75 52 118 52 59 88 66 26 82 103 79 99 58 75 50 55 100 115 92 26 90 25 67 48 55 22 41 69 81 54 52 24 68 57 119 57 25 97 76 108 109 44 30 92 95 108 73 71 104 66 116 112 90 104 114 39 42 38 57 56 70 39 82 26 49 47 117 85 21 115 44 98 75 73 37 102 93 90 45 38 105 85 46 45 79 97 41 62 65 105 36 115 50 51 90 79 52 42 72 72 95 32 38 28 112 88 87 21 103 47 70 34 87 82 85 25 111 99 114 38 50 91 31 85 35 43 62 102 111 102 74 87 39 86 96 75 48 63 97 102 64 64 91 86 34 63 102 48 90 63 77 29 95 100 50 63 20 27 98 59 60 118 96 21 33 39 95 26 111 36 34 89 94 41 60 95 62 41 85 107 66 58 111 50 27 107 24 79 81 31 103 27 29 88 77 63 101 33 90 114 62 83 95 56 92 102 39 111 83 64 45 21 40 105 76 50 105 93 78 52 42 71 88 56 116 46 39 95 87 105 75 81 27 54 32 41 78 54 89 25 45 83 23 103 96 115 99 35 23 38 59 35 79 78 43 117 52 93 98 64 115 70 114 85 31 64 52 75 116 27 89 109 29 88 42 95 98 83 53 112 104 26 104 103 80 45 93 47 29 105 27 75 90 38 20 94 31 64 56 83 86 67 117 112 109 69 91 35 63 24 49 106 40 113 108 32 21 45 72 72 43 21 90 62 102 31 73 50 117 79 35 51 20 43 61 93 99 119 77 55 117 75 40 84 119 22 92 22 86 103 24 23 54 91 42 88 21 62 28 111 79 33 102 97 63 75 118 60 73 70 65 45 42 88 54 90 61 115 64 70 115 70 97 45 86 93 60 77 101 31 118 113 35 21 96 97 109 70 56 94 105 89 115 63 96 75 22 116 22 86 23 31 93 113 113 93 31 116 79 114 112 86 110 66 75 45 114 \n",
      "250\n"
     ]
    }
   ],
   "source": [
    "n, m = map(int,(input().split()))\n",
    "a = list(map(int,(input().split())))\n",
    "\n",
    "count=0\n",
    "\n",
    "while len(a)>0:\n",
    "    if max(a)+min(a)>m:\n",
    "        a.pop(a.index(max(a)))\n",
    "    else:\n",
    "        a.pop(a.index(max(a)))\n",
    "        a.pop(a.index(min(a)))\n",
    "    count+=1\n",
    "    \n",
    "print(count)"
   ]
  },
  {
   "cell_type": "markdown",
   "metadata": {},
   "source": [
    "## 증가수열 만들기(그리디)"
   ]
  },
  {
   "cell_type": "code",
   "execution_count": 8,
   "metadata": {
    "scrolled": true
   },
   "outputs": [
    {
     "name": "stdout",
     "output_type": "stream",
     "text": [
      "5\n",
      "1 3 5 2 4\n",
      "4\n",
      "LLRL\n"
     ]
    }
   ],
   "source": [
    "n = int(input())\n",
    "a = list(map(int,(input().split())))\n",
    "\n",
    "string=\"\"\n",
    "num=0\n",
    "\n",
    "while True:\n",
    "    if num>=a[0] and num>=a[-1]:\n",
    "        break\n",
    "    elif num<a[0] and num<a[-1]: \n",
    "        if a[0]<=a[-1]:\n",
    "            string+=\"L\"\n",
    "            num=a[0]\n",
    "            a.pop(0)\n",
    "        else:\n",
    "            string+=\"R\"\n",
    "            num=a[-1]\n",
    "            a.pop()\n",
    "    else:\n",
    "        if a[0]>a[-1]:\n",
    "            string+=\"L\"\n",
    "            num=a[0]\n",
    "            a.pop(0)\n",
    "        else:\n",
    "            string+=\"R\"\n",
    "            num=a[-1]\n",
    "            a.pop()\n",
    "            \n",
    "print(len(string))\n",
    "print(string)"
   ]
  },
  {
   "cell_type": "markdown",
   "metadata": {},
   "source": [
    "### 정답"
   ]
  },
  {
   "cell_type": "code",
   "execution_count": 7,
   "metadata": {},
   "outputs": [
    {
     "ename": "NameError",
     "evalue": "name 'string' is not defined",
     "output_type": "error",
     "traceback": [
      "\u001b[1;31m---------------------------------------------------------------------------\u001b[0m",
      "\u001b[1;31mNameError\u001b[0m                                 Traceback (most recent call last)",
      "\u001b[1;32m<ipython-input-7-2206dedfe0e0>\u001b[0m in \u001b[0;36m<module>\u001b[1;34m\u001b[0m\n\u001b[0;32m     17\u001b[0m     \u001b[0mtmp\u001b[0m\u001b[1;33m.\u001b[0m\u001b[0mclear\u001b[0m\u001b[1;33m(\u001b[0m\u001b[1;33m)\u001b[0m\u001b[1;33m\u001b[0m\u001b[1;33m\u001b[0m\u001b[0m\n\u001b[0;32m     18\u001b[0m \u001b[1;33m\u001b[0m\u001b[0m\n\u001b[1;32m---> 19\u001b[1;33m \u001b[0mprint\u001b[0m\u001b[1;33m(\u001b[0m\u001b[0mlen\u001b[0m\u001b[1;33m(\u001b[0m\u001b[0mstring\u001b[0m\u001b[1;33m)\u001b[0m\u001b[1;33m)\u001b[0m\u001b[1;33m\u001b[0m\u001b[1;33m\u001b[0m\u001b[0m\n\u001b[0m\u001b[0;32m     20\u001b[0m \u001b[0mprint\u001b[0m\u001b[1;33m(\u001b[0m\u001b[0mstring\u001b[0m\u001b[1;33m)\u001b[0m\u001b[1;33m\u001b[0m\u001b[1;33m\u001b[0m\u001b[0m\n",
      "\u001b[1;31mNameError\u001b[0m: name 'string' is not defined"
     ]
    }
   ],
   "source": [
    "tmp=[]\n",
    "while lt <= rt:\n",
    "    if a[lt]>last:\n",
    "        tmp.append((a[lt],'L'))\n",
    "    if a[rt]>last:\n",
    "        tmp.append((a[rt],'R'))\n",
    "    tmp.sort()\n",
    "    if len(tmp)==0:\n",
    "        break\n",
    "    else:\n",
    "        string+tmp[0][1]\n",
    "        num=tmp[0][0]\n",
    "        if tmp[0][1]=='L':\n",
    "            lt+=1\n",
    "        else:\n",
    "            rt-=1\n",
    "    tmp.clear()\n",
    "    \n",
    "print(len(string))\n",
    "print(string)"
   ]
  },
  {
   "cell_type": "markdown",
   "metadata": {},
   "source": [
    "## 역수열(그리디)"
   ]
  },
  {
   "cell_type": "code",
   "execution_count": 49,
   "metadata": {
    "scrolled": false
   },
   "outputs": [
    {
     "name": "stdout",
     "output_type": "stream",
     "text": [
      "100\n",
      "84 57 66 80 12 5 13 26 21 41 57 78 0 69 76 41 78 39 62 54 25 76 33 27 45 52 67 22 40 59 25 37 65 27 21 41 15 13 43 51 24 41 10 6 24 31 26 25 16 11 42 19 14 45 12 34 15 37 37 29 27 33 12 16 16 8 12 24 25 23 19 23 3 1 18 2 0 11 6 18 0 1 4 10 14 7 3 7 9 10 5 6 2 0 2 3 3 0 1 0 \n",
      "[13, 77, 74, 81, 73, 6, 76, 94, 44, 82, 98, 66, 5, 43, 93, 7, 87, 38, 50, 37, 79, 55, 63, 53, 9, 49, 35, 28, 83, 8, 67, 21, 57, 31, 24, 100, 52, 34, 41, 95, 23, 64, 45, 65, 48, 18, 10, 47, 16, 91, 78, 32, 86, 29, 99, 46, 88, 2, 25, 71, 84, 36, 75, 61, 11, 20, 92, 3, 42, 26, 39, 60, 70, 68, 19, 96, 56, 69, 72, 14, 62, 30, 4, 40, 1, 89, 51, 58, 59, 12, 15, 27, 97, 80, 17, 85, 33, 22, 54, 90]\n"
     ]
    }
   ],
   "source": [
    "n = int(input())\n",
    "a = list(map(int,(input().split())))\n",
    "\n",
    "result=[]\n",
    "for i in range(n-1, -1, -1):\n",
    "    result.insert(a[i],i+1)\n",
    "    \n",
    "print(result)"
   ]
  },
  {
   "cell_type": "markdown",
   "metadata": {},
   "source": [
    "### 정답"
   ]
  },
  {
   "cell_type": "code",
   "execution_count": null,
   "metadata": {},
   "outputs": [],
   "source": [
    "n = int(input())\n",
    "a = list(map(int,(input().split())))\n",
    "\n",
    "result=[0]*n\n",
    "\n",
    "for i in range(n):\n",
    "    for j in range(n):\n",
    "        if a[i]==0 and result[j]==0:\n",
    "            result[j]=i+1\n",
    "        elif result[j]==0:\n",
    "            a[i]-=1\n",
    "\n",
    "print(result)"
   ]
  }
 ],
 "metadata": {
  "kernelspec": {
   "display_name": "Python 3",
   "language": "python",
   "name": "python3"
  },
  "language_info": {
   "codemirror_mode": {
    "name": "ipython",
    "version": 3
   },
   "file_extension": ".py",
   "mimetype": "text/x-python",
   "name": "python",
   "nbconvert_exporter": "python",
   "pygments_lexer": "ipython3",
   "version": "3.8.5"
  }
 },
 "nbformat": 4,
 "nbformat_minor": 4
}
